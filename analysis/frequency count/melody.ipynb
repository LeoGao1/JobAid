{
 "cells": [
  {
   "cell_type": "code",
   "execution_count": 156,
   "metadata": {},
   "outputs": [
    {
     "name": "stderr",
     "output_type": "stream",
     "text": [
      "[nltk_data] Downloading package punkt to\n",
      "[nltk_data]     /Users/melodyzhang/nltk_data...\n",
      "[nltk_data]   Package punkt is already up-to-date!\n"
     ]
    }
   ],
   "source": [
    "import numpy as np\n",
    "import pandas as pd\n",
    "import re\n",
    "import nltk\n",
    "#nltk.download()\n",
    "nltk.download('punkt')\n",
    "from nltk.corpus import stopwords\n",
    "from nltk.tokenize import word_tokenize\n",
    "from collections import Counter"
   ]
  },
  {
   "cell_type": "code",
   "execution_count": 157,
   "metadata": {},
   "outputs": [],
   "source": [
    "data = pd.read_csv(\"Data.csv\")"
   ]
  },
  {
   "cell_type": "code",
   "execution_count": 158,
   "metadata": {},
   "outputs": [
    {
     "data": {
      "text/html": [
       "<div>\n",
       "<style scoped>\n",
       "    .dataframe tbody tr th:only-of-type {\n",
       "        vertical-align: middle;\n",
       "    }\n",
       "\n",
       "    .dataframe tbody tr th {\n",
       "        vertical-align: top;\n",
       "    }\n",
       "\n",
       "    .dataframe thead th {\n",
       "        text-align: right;\n",
       "    }\n",
       "</style>\n",
       "<table border=\"1\" class=\"dataframe\">\n",
       "  <thead>\n",
       "    <tr style=\"text-align: right;\">\n",
       "      <th></th>\n",
       "      <th>company Name</th>\n",
       "      <th>Question</th>\n",
       "    </tr>\n",
       "  </thead>\n",
       "  <tbody>\n",
       "    <tr>\n",
       "      <th>0</th>\n",
       "      <td>Yammer</td>\n",
       "      <td>You are compiling a report for user content u...</td>\n",
       "    </tr>\n",
       "    <tr>\n",
       "      <th>1</th>\n",
       "      <td>Apple</td>\n",
       "      <td>How do you take millions of users with 100's ...</td>\n",
       "    </tr>\n",
       "    <tr>\n",
       "      <th>2</th>\n",
       "      <td>LinkedIn</td>\n",
       "      <td>Find the second largest element in a Binary S...</td>\n",
       "    </tr>\n",
       "    <tr>\n",
       "      <th>3</th>\n",
       "      <td>Netflix</td>\n",
       "      <td>How would you build and test a metric to comp...</td>\n",
       "    </tr>\n",
       "    <tr>\n",
       "      <th>4</th>\n",
       "      <td>Glassdoor</td>\n",
       "      <td>How would you test if survey responses were f...</td>\n",
       "    </tr>\n",
       "  </tbody>\n",
       "</table>\n",
       "</div>"
      ],
      "text/plain": [
       "  company Name                                           Question\n",
       "0       Yammer   You are compiling a report for user content u...\n",
       "1        Apple   How do you take millions of users with 100's ...\n",
       "2     LinkedIn   Find the second largest element in a Binary S...\n",
       "3      Netflix   How would you build and test a metric to comp...\n",
       "4    Glassdoor   How would you test if survey responses were f..."
      ]
     },
     "execution_count": 158,
     "metadata": {},
     "output_type": "execute_result"
    }
   ],
   "source": [
    "data.head()"
   ]
  },
  {
   "cell_type": "code",
   "execution_count": 159,
   "metadata": {},
   "outputs": [],
   "source": [
    "# make a copy\n",
    "df = data.copy()"
   ]
  },
  {
   "cell_type": "code",
   "execution_count": 160,
   "metadata": {},
   "outputs": [],
   "source": [
    "# remove punctuation, lower case letters \n",
    "def clean_question(question):\n",
    "    question = re.sub(r'[^\\w\\s]','',question)\n",
    "    return (question\n",
    "            .lower()\n",
    "            .replace('&', 'and'))"
   ]
  },
  {
   "cell_type": "code",
   "execution_count": 161,
   "metadata": {},
   "outputs": [],
   "source": [
    "df['Question'] = df['Question'].apply(clean_question)"
   ]
  },
  {
   "cell_type": "code",
   "execution_count": 162,
   "metadata": {},
   "outputs": [
    {
     "data": {
      "text/html": [
       "<div>\n",
       "<style scoped>\n",
       "    .dataframe tbody tr th:only-of-type {\n",
       "        vertical-align: middle;\n",
       "    }\n",
       "\n",
       "    .dataframe tbody tr th {\n",
       "        vertical-align: top;\n",
       "    }\n",
       "\n",
       "    .dataframe thead th {\n",
       "        text-align: right;\n",
       "    }\n",
       "</style>\n",
       "<table border=\"1\" class=\"dataframe\">\n",
       "  <thead>\n",
       "    <tr style=\"text-align: right;\">\n",
       "      <th></th>\n",
       "      <th>company Name</th>\n",
       "      <th>Question</th>\n",
       "    </tr>\n",
       "  </thead>\n",
       "  <tbody>\n",
       "    <tr>\n",
       "      <th>0</th>\n",
       "      <td>Yammer</td>\n",
       "      <td>you are compiling a report for user content u...</td>\n",
       "    </tr>\n",
       "    <tr>\n",
       "      <th>1</th>\n",
       "      <td>Apple</td>\n",
       "      <td>how do you take millions of users with 100s o...</td>\n",
       "    </tr>\n",
       "    <tr>\n",
       "      <th>2</th>\n",
       "      <td>LinkedIn</td>\n",
       "      <td>find the second largest element in a binary s...</td>\n",
       "    </tr>\n",
       "    <tr>\n",
       "      <th>3</th>\n",
       "      <td>Netflix</td>\n",
       "      <td>how would you build and test a metric to comp...</td>\n",
       "    </tr>\n",
       "    <tr>\n",
       "      <th>4</th>\n",
       "      <td>Glassdoor</td>\n",
       "      <td>how would you test if survey responses were f...</td>\n",
       "    </tr>\n",
       "  </tbody>\n",
       "</table>\n",
       "</div>"
      ],
      "text/plain": [
       "  company Name                                           Question\n",
       "0       Yammer   you are compiling a report for user content u...\n",
       "1        Apple   how do you take millions of users with 100s o...\n",
       "2     LinkedIn   find the second largest element in a binary s...\n",
       "3      Netflix   how would you build and test a metric to comp...\n",
       "4    Glassdoor   how would you test if survey responses were f..."
      ]
     },
     "execution_count": 162,
     "metadata": {},
     "output_type": "execute_result"
    }
   ],
   "source": [
    "df.head()"
   ]
  },
  {
   "cell_type": "code",
   "execution_count": 163,
   "metadata": {},
   "outputs": [],
   "source": [
    "# remove stop words\n",
    "def remove_stop_words(question):\n",
    "    stop_words = set(stopwords.words('english'))\n",
    "    word_tokens = word_tokenize(question)\n",
    "    filtered_sentence = [w for w in word_tokens if not w in stop_words]\n",
    "    filtered_sentence = []\n",
    "    \n",
    "    for w in word_tokens:\n",
    "        if w not in stop_words:\n",
    "            filtered_sentence.append(w)\n",
    "    return filtered_sentence"
   ]
  },
  {
   "cell_type": "code",
   "execution_count": 164,
   "metadata": {},
   "outputs": [],
   "source": [
    "df['Question'] = df['Question'].apply(remove_stop_words)"
   ]
  },
  {
   "cell_type": "code",
   "execution_count": 165,
   "metadata": {},
   "outputs": [
    {
     "data": {
      "text/html": [
       "<div>\n",
       "<style scoped>\n",
       "    .dataframe tbody tr th:only-of-type {\n",
       "        vertical-align: middle;\n",
       "    }\n",
       "\n",
       "    .dataframe tbody tr th {\n",
       "        vertical-align: top;\n",
       "    }\n",
       "\n",
       "    .dataframe thead th {\n",
       "        text-align: right;\n",
       "    }\n",
       "</style>\n",
       "<table border=\"1\" class=\"dataframe\">\n",
       "  <thead>\n",
       "    <tr style=\"text-align: right;\">\n",
       "      <th></th>\n",
       "      <th>company Name</th>\n",
       "      <th>Question</th>\n",
       "    </tr>\n",
       "  </thead>\n",
       "  <tbody>\n",
       "    <tr>\n",
       "      <th>0</th>\n",
       "      <td>Yammer</td>\n",
       "      <td>[compiling, report, user, content, uploaded, e...</td>\n",
       "    </tr>\n",
       "    <tr>\n",
       "      <th>1</th>\n",
       "      <td>Apple</td>\n",
       "      <td>[take, millions, users, 100s, transactions, am...</td>\n",
       "    </tr>\n",
       "    <tr>\n",
       "      <th>2</th>\n",
       "      <td>LinkedIn</td>\n",
       "      <td>[find, second, largest, element, binary, searc...</td>\n",
       "    </tr>\n",
       "    <tr>\n",
       "      <th>3</th>\n",
       "      <td>Netflix</td>\n",
       "      <td>[would, build, test, metric, compare, two, use...</td>\n",
       "    </tr>\n",
       "    <tr>\n",
       "      <th>4</th>\n",
       "      <td>Glassdoor</td>\n",
       "      <td>[would, test, survey, responses, filled, rando...</td>\n",
       "    </tr>\n",
       "  </tbody>\n",
       "</table>\n",
       "</div>"
      ],
      "text/plain": [
       "  company Name                                           Question\n",
       "0       Yammer  [compiling, report, user, content, uploaded, e...\n",
       "1        Apple  [take, millions, users, 100s, transactions, am...\n",
       "2     LinkedIn  [find, second, largest, element, binary, searc...\n",
       "3      Netflix  [would, build, test, metric, compare, two, use...\n",
       "4    Glassdoor  [would, test, survey, responses, filled, rando..."
      ]
     },
     "execution_count": 165,
     "metadata": {},
     "output_type": "execute_result"
    }
   ],
   "source": [
    "df.head()"
   ]
  },
  {
   "cell_type": "code",
   "execution_count": 166,
   "metadata": {},
   "outputs": [
    {
     "data": {
      "text/plain": [
       "\"\\n# display frequencies of single words\\nlst = []\\nfor i in range(df.shape[0]):\\n    lst = lst + df.loc[i, 'Question']\\n\\nbow = pd.Series(lst)\\nbow.value_counts()\\n\""
      ]
     },
     "execution_count": 166,
     "metadata": {},
     "output_type": "execute_result"
    }
   ],
   "source": [
    "'''\n",
    "# display frequencies of single words\n",
    "lst = []\n",
    "for i in range(df.shape[0]):\n",
    "    lst = lst + df.loc[i, 'Question']\n",
    "\n",
    "bow = pd.Series(lst)\n",
    "bow.value_counts()\n",
    "'''"
   ]
  },
  {
   "cell_type": "code",
   "execution_count": 167,
   "metadata": {},
   "outputs": [],
   "source": [
    "# generate phrases\n",
    "def generate_ngrams(question, n):\n",
    "    ngrams = zip(*[question[i:] for i in range(n)])\n",
    "    return [\" \".join(ngram) for ngram in ngrams]"
   ]
  },
  {
   "cell_type": "code",
   "execution_count": 168,
   "metadata": {},
   "outputs": [],
   "source": [
    "# generate phrases with n = ?\n",
    "df['Question'] = df['Question'].apply(lambda s: generate_ngrams(s, n=3))"
   ]
  },
  {
   "cell_type": "code",
   "execution_count": 169,
   "metadata": {},
   "outputs": [
    {
     "data": {
      "text/html": [
       "<div>\n",
       "<style scoped>\n",
       "    .dataframe tbody tr th:only-of-type {\n",
       "        vertical-align: middle;\n",
       "    }\n",
       "\n",
       "    .dataframe tbody tr th {\n",
       "        vertical-align: top;\n",
       "    }\n",
       "\n",
       "    .dataframe thead th {\n",
       "        text-align: right;\n",
       "    }\n",
       "</style>\n",
       "<table border=\"1\" class=\"dataframe\">\n",
       "  <thead>\n",
       "    <tr style=\"text-align: right;\">\n",
       "      <th></th>\n",
       "      <th>company Name</th>\n",
       "      <th>Question</th>\n",
       "    </tr>\n",
       "  </thead>\n",
       "  <tbody>\n",
       "    <tr>\n",
       "      <th>0</th>\n",
       "      <td>Yammer</td>\n",
       "      <td>[compiling report user, report user content, u...</td>\n",
       "    </tr>\n",
       "    <tr>\n",
       "      <th>1</th>\n",
       "      <td>Apple</td>\n",
       "      <td>[take millions users, millions users 100s, use...</td>\n",
       "    </tr>\n",
       "    <tr>\n",
       "      <th>2</th>\n",
       "      <td>LinkedIn</td>\n",
       "      <td>[find second largest, second largest element, ...</td>\n",
       "    </tr>\n",
       "    <tr>\n",
       "      <th>3</th>\n",
       "      <td>Netflix</td>\n",
       "      <td>[would build test, build test metric, test met...</td>\n",
       "    </tr>\n",
       "    <tr>\n",
       "      <th>4</th>\n",
       "      <td>Glassdoor</td>\n",
       "      <td>[would test survey, test survey responses, sur...</td>\n",
       "    </tr>\n",
       "  </tbody>\n",
       "</table>\n",
       "</div>"
      ],
      "text/plain": [
       "  company Name                                           Question\n",
       "0       Yammer  [compiling report user, report user content, u...\n",
       "1        Apple  [take millions users, millions users 100s, use...\n",
       "2     LinkedIn  [find second largest, second largest element, ...\n",
       "3      Netflix  [would build test, build test metric, test met...\n",
       "4    Glassdoor  [would test survey, test survey responses, sur..."
      ]
     },
     "execution_count": 169,
     "metadata": {},
     "output_type": "execute_result"
    }
   ],
   "source": [
    "df.head()"
   ]
  },
  {
   "cell_type": "code",
   "execution_count": 170,
   "metadata": {},
   "outputs": [
    {
     "data": {
      "text/plain": [
       "see 5 years                       49\n",
       "tell us time                      43\n",
       "machine learning algorithms       18\n",
       "see five years                    17\n",
       "data science project              17\n",
       "previous work experience          16\n",
       "give example time                 15\n",
       "write sql query                   15\n",
       "standard interview questions      14\n",
       "given data set                    13\n",
       "machine learning questions        13\n",
       "basic behavioral questions        12\n",
       "would good fit                    12\n",
       "want leave current                12\n",
       "machine learning model            11\n",
       "tell time worked                  11\n",
       "experience data analysis          10\n",
       "typical interview questions        9\n",
       "would like work                    9\n",
       "machine learning algorithm         9\n",
       "data science problem               9\n",
       "data science questions             9\n",
       "profit per customer                8\n",
       "next 5 years                       8\n",
       "time worked team                   8\n",
       "basic sql questions                8\n",
       "tell time deal                     8\n",
       "time made mistake                  8\n",
       "tell little bit                    8\n",
       "basic interview questions          8\n",
       "                                  ..\n",
       "sql hive system                    1\n",
       "youll interviewed software         1\n",
       "users id like                      1\n",
       "small amount data                  1\n",
       "requirements want join             1\n",
       "questions generate deck            1\n",
       "amount water stored                1\n",
       "interact within marketing          1\n",
       "explain code one                   1\n",
       "institution want work              1\n",
       "query given asked                  1\n",
       "whiteboard set model               1\n",
       "behavioral questions awareness     1\n",
       "form interviewing legally          1\n",
       "along coding online                1\n",
       "asked related pca                  1\n",
       "projects detailed resume           1\n",
       "prioritize list tasks              1\n",
       "engineer heatmap telling           1\n",
       "interview takes one                1\n",
       "question wasnt asked               1\n",
       "first carried trying               1\n",
       "challenge onsite rounds            1\n",
       "problems occur files               1\n",
       "rate denoted hatp                  1\n",
       "ads effectiveness also             1\n",
       "question white board               1\n",
       "order command sql                  1\n",
       "80 careful rates                   1\n",
       "really likes ask                   1\n",
       "Length: 43264, dtype: int64"
      ]
     },
     "execution_count": 170,
     "metadata": {},
     "output_type": "execute_result"
    }
   ],
   "source": [
    "# display frequencies of frequencies\n",
    "lst = []\n",
    "for i in range(df.shape[0]):\n",
    "    lst = lst + df.loc[i, 'Question']\n",
    "\n",
    "bow = pd.Series(lst)\n",
    "bow.value_counts()"
   ]
  },
  {
   "cell_type": "code",
   "execution_count": null,
   "metadata": {},
   "outputs": [],
   "source": []
  },
  {
   "cell_type": "code",
   "execution_count": null,
   "metadata": {},
   "outputs": [],
   "source": []
  }
 ],
 "metadata": {
  "kernelspec": {
   "display_name": "Python 3",
   "language": "python",
   "name": "python3"
  },
  "language_info": {
   "codemirror_mode": {
    "name": "ipython",
    "version": 3
   },
   "file_extension": ".py",
   "mimetype": "text/x-python",
   "name": "python",
   "nbconvert_exporter": "python",
   "pygments_lexer": "ipython3",
   "version": "3.7.1"
  }
 },
 "nbformat": 4,
 "nbformat_minor": 2
}
