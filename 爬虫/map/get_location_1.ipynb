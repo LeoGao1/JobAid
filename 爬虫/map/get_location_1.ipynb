{
 "cells": [
  {
   "cell_type": "code",
   "execution_count": 3,
   "metadata": {},
   "outputs": [],
   "source": [
    "import time\n",
    "import json\n",
    "from bs4 import BeautifulSoup\n",
    "import requests\n",
    "import pandas as pd\n",
    "import numpy as np \n"
   ]
  },
  {
   "cell_type": "code",
   "execution_count": 45,
   "metadata": {},
   "outputs": [],
   "source": [
    "#page 似乎在30页之后都没有了，我们从第二页开始，所以page统一不变，是28\n",
    "pages = 28\n",
    "\n",
    "\n",
    "occupationName=\"Mental health counselor\"\n",
    "\n",
    "dic1 = {\"data analyst\":\"-jobs-SRCH_KO0,12\",\n",
    "      \"data scientist\":\"-jobs-SRCH_KO0,14\",\n",
    "       \"data engineer\": \"-jobs-SRCH_KO0,13\",\n",
    "        \"Consultant\": \"-jobs-SRCH_KO0,10\",\n",
    "        \"Accountant\":\"-jobs-SRCH_KO0,10\",\n",
    "        \"Graphic Designer\":\"-jobs-SRCH_KO0,16\",\n",
    "        \"UX Designer\":\"-jobs-SRCH_KO0,11\",\n",
    "        \"UI Designer\":\"-jobs-SRCH_KO0,11\",\n",
    "        \"Art Director\":\"-jobs-SRCH_KO0,12\",\n",
    "        \"Mental health counselor\":\"-jobs-SRCH_KO0,23\"\n",
    "       }\n",
    "\n",
    "code = dic1[occupationName]\n"
   ]
  },
  {
   "cell_type": "code",
   "execution_count": 46,
   "metadata": {},
   "outputs": [
    {
     "data": {
      "text/plain": [
       "['https://www.glassdoor.com/Job/mental-health-counselor-jobs-SRCH_KO0,23_IP2.htm',\n",
       " 'https://www.glassdoor.com/Job/mental-health-counselor-jobs-SRCH_KO0,23_IP3.htm',\n",
       " 'https://www.glassdoor.com/Job/mental-health-counselor-jobs-SRCH_KO0,23_IP4.htm',\n",
       " 'https://www.glassdoor.com/Job/mental-health-counselor-jobs-SRCH_KO0,23_IP5.htm',\n",
       " 'https://www.glassdoor.com/Job/mental-health-counselor-jobs-SRCH_KO0,23_IP6.htm',\n",
       " 'https://www.glassdoor.com/Job/mental-health-counselor-jobs-SRCH_KO0,23_IP7.htm',\n",
       " 'https://www.glassdoor.com/Job/mental-health-counselor-jobs-SRCH_KO0,23_IP8.htm',\n",
       " 'https://www.glassdoor.com/Job/mental-health-counselor-jobs-SRCH_KO0,23_IP9.htm',\n",
       " 'https://www.glassdoor.com/Job/mental-health-counselor-jobs-SRCH_KO0,23_IP10.htm',\n",
       " 'https://www.glassdoor.com/Job/mental-health-counselor-jobs-SRCH_KO0,23_IP11.htm',\n",
       " 'https://www.glassdoor.com/Job/mental-health-counselor-jobs-SRCH_KO0,23_IP12.htm',\n",
       " 'https://www.glassdoor.com/Job/mental-health-counselor-jobs-SRCH_KO0,23_IP13.htm',\n",
       " 'https://www.glassdoor.com/Job/mental-health-counselor-jobs-SRCH_KO0,23_IP14.htm',\n",
       " 'https://www.glassdoor.com/Job/mental-health-counselor-jobs-SRCH_KO0,23_IP15.htm',\n",
       " 'https://www.glassdoor.com/Job/mental-health-counselor-jobs-SRCH_KO0,23_IP16.htm',\n",
       " 'https://www.glassdoor.com/Job/mental-health-counselor-jobs-SRCH_KO0,23_IP17.htm',\n",
       " 'https://www.glassdoor.com/Job/mental-health-counselor-jobs-SRCH_KO0,23_IP18.htm',\n",
       " 'https://www.glassdoor.com/Job/mental-health-counselor-jobs-SRCH_KO0,23_IP19.htm',\n",
       " 'https://www.glassdoor.com/Job/mental-health-counselor-jobs-SRCH_KO0,23_IP20.htm',\n",
       " 'https://www.glassdoor.com/Job/mental-health-counselor-jobs-SRCH_KO0,23_IP21.htm',\n",
       " 'https://www.glassdoor.com/Job/mental-health-counselor-jobs-SRCH_KO0,23_IP22.htm',\n",
       " 'https://www.glassdoor.com/Job/mental-health-counselor-jobs-SRCH_KO0,23_IP23.htm',\n",
       " 'https://www.glassdoor.com/Job/mental-health-counselor-jobs-SRCH_KO0,23_IP24.htm',\n",
       " 'https://www.glassdoor.com/Job/mental-health-counselor-jobs-SRCH_KO0,23_IP25.htm',\n",
       " 'https://www.glassdoor.com/Job/mental-health-counselor-jobs-SRCH_KO0,23_IP26.htm',\n",
       " 'https://www.glassdoor.com/Job/mental-health-counselor-jobs-SRCH_KO0,23_IP27.htm',\n",
       " 'https://www.glassdoor.com/Job/mental-health-counselor-jobs-SRCH_KO0,23_IP28.htm',\n",
       " 'https://www.glassdoor.com/Job/mental-health-counselor-jobs-SRCH_KO0,23_IP29.htm']"
      ]
     },
     "execution_count": 46,
     "metadata": {},
     "output_type": "execute_result"
    }
   ],
   "source": [
    "#get url list\n",
    "origin=\"https://www.glassdoor.com/Job/\"\n",
    "occu=occupationName.lower()\n",
    "occu=occu.replace(' ','-')\n",
    "origin=origin+occu+code\n",
    "urls=[origin +\"_IP\" + str(i+2)+ \".htm\" for i in range(pages)]\n",
    "urls"
   ]
  },
  {
   "cell_type": "code",
   "execution_count": 47,
   "metadata": {
    "scrolled": true
   },
   "outputs": [
    {
     "data": {
      "text/html": [
       "<div>\n",
       "<style scoped>\n",
       "    .dataframe tbody tr th:only-of-type {\n",
       "        vertical-align: middle;\n",
       "    }\n",
       "\n",
       "    .dataframe tbody tr th {\n",
       "        vertical-align: top;\n",
       "    }\n",
       "\n",
       "    .dataframe thead th {\n",
       "        text-align: right;\n",
       "    }\n",
       "</style>\n",
       "<table border=\"1\" class=\"dataframe\">\n",
       "  <thead>\n",
       "    <tr style=\"text-align: right;\">\n",
       "      <th></th>\n",
       "      <th>title</th>\n",
       "      <th>loc</th>\n",
       "    </tr>\n",
       "  </thead>\n",
       "  <tbody>\n",
       "    <tr>\n",
       "      <th>0</th>\n",
       "      <td>mental health counselor</td>\n",
       "      <td>Royersford, PA</td>\n",
       "    </tr>\n",
       "    <tr>\n",
       "      <th>1</th>\n",
       "      <td>mental health counselor</td>\n",
       "      <td>Martinsville, IN</td>\n",
       "    </tr>\n",
       "    <tr>\n",
       "      <th>2</th>\n",
       "      <td>mental health therapist</td>\n",
       "      <td>Lake Villa, IL</td>\n",
       "    </tr>\n",
       "    <tr>\n",
       "      <th>3</th>\n",
       "      <td>residential counselor</td>\n",
       "      <td>Fall River, MA</td>\n",
       "    </tr>\n",
       "    <tr>\n",
       "      <th>4</th>\n",
       "      <td>school counselor</td>\n",
       "      <td>Tucson, AZ</td>\n",
       "    </tr>\n",
       "  </tbody>\n",
       "</table>\n",
       "</div>"
      ],
      "text/plain": [
       "                     title               loc\n",
       "0  mental health counselor    Royersford, PA\n",
       "1  mental health counselor  Martinsville, IN\n",
       "2  mental health therapist    Lake Villa, IL\n",
       "3    residential counselor    Fall River, MA\n",
       "4         school counselor        Tucson, AZ"
      ]
     },
     "execution_count": 47,
     "metadata": {},
     "output_type": "execute_result"
    }
   ],
   "source": [
    "#网上查自己的user agent 改下再运行\n",
    "headers = {'User-Agent': \"Mozilla/5.0 (Macintosh; Intel Mac OS X 10_13_6) AppleWebKit/605.1.15 (KHTML, like Gecko) Version/12.1.1 Safari/605.1.15\"}\n",
    "df = pd.DataFrame(columns = ['title','loc'])\n",
    "index = 0\n",
    "for i in range(pages):\n",
    "    html = requests.get(urls[i], headers = headers)\n",
    "    if(not html.ok):\n",
    "        print(str(i) +'times try is not respond')\n",
    "    soup = BeautifulSoup(html.content, \"html.parser\")\n",
    "    #html.content\n",
    "    job_list_1 = soup.find_all('li',attrs = {\"class\":'jl'})\n",
    "    job_list_2 = soup.find_all('li',attrs = {\"class\":'jl selected'})\n",
    "    for j in range(len(job_list_1)):\n",
    "        k = job_list_1[j]\n",
    "        loc = k['data-job-loc']\n",
    "        title = k['data-normalize-job-title']\n",
    "        df.loc[index] = [title,loc]\n",
    "        index +=1\n",
    "        \n",
    "    for j in range(len(job_list_2)):\n",
    "        k = job_list_1[j]\n",
    "        loc = k['data-job-loc']\n",
    "        title = k['data-normalize-job-title']\n",
    "        df.loc[index] = [title,loc]\n",
    "        index +=1\n",
    "        \n",
    "        \n",
    "    #time.sleep(3)\n",
    "    \n",
    "    \n",
    "df.head()"
   ]
  },
  {
   "cell_type": "code",
   "execution_count": 48,
   "metadata": {},
   "outputs": [
    {
     "data": {
      "text/html": [
       "<div>\n",
       "<style scoped>\n",
       "    .dataframe tbody tr th:only-of-type {\n",
       "        vertical-align: middle;\n",
       "    }\n",
       "\n",
       "    .dataframe tbody tr th {\n",
       "        vertical-align: top;\n",
       "    }\n",
       "\n",
       "    .dataframe thead th {\n",
       "        text-align: right;\n",
       "    }\n",
       "</style>\n",
       "<table border=\"1\" class=\"dataframe\">\n",
       "  <thead>\n",
       "    <tr style=\"text-align: right;\">\n",
       "      <th></th>\n",
       "      <th>title</th>\n",
       "      <th>loc</th>\n",
       "    </tr>\n",
       "  </thead>\n",
       "  <tbody>\n",
       "    <tr>\n",
       "      <th>0</th>\n",
       "      <td>mental health counselor</td>\n",
       "      <td>PA</td>\n",
       "    </tr>\n",
       "    <tr>\n",
       "      <th>1</th>\n",
       "      <td>mental health counselor</td>\n",
       "      <td>IN</td>\n",
       "    </tr>\n",
       "    <tr>\n",
       "      <th>2</th>\n",
       "      <td>mental health therapist</td>\n",
       "      <td>IL</td>\n",
       "    </tr>\n",
       "    <tr>\n",
       "      <th>3</th>\n",
       "      <td>residential counselor</td>\n",
       "      <td>MA</td>\n",
       "    </tr>\n",
       "    <tr>\n",
       "      <th>4</th>\n",
       "      <td>school counselor</td>\n",
       "      <td>AZ</td>\n",
       "    </tr>\n",
       "  </tbody>\n",
       "</table>\n",
       "</div>"
      ],
      "text/plain": [
       "                     title loc\n",
       "0  mental health counselor  PA\n",
       "1  mental health counselor  IN\n",
       "2  mental health therapist  IL\n",
       "3    residential counselor  MA\n",
       "4         school counselor  AZ"
      ]
     },
     "execution_count": 48,
     "metadata": {},
     "output_type": "execute_result"
    }
   ],
   "source": [
    "df['loc'] = [i[-2:] for i in df['loc'].values]\n",
    "df.head()"
   ]
  },
  {
   "cell_type": "code",
   "execution_count": 49,
   "metadata": {},
   "outputs": [
    {
     "data": {
      "text/html": [
       "<div>\n",
       "<style scoped>\n",
       "    .dataframe tbody tr th:only-of-type {\n",
       "        vertical-align: middle;\n",
       "    }\n",
       "\n",
       "    .dataframe tbody tr th {\n",
       "        vertical-align: top;\n",
       "    }\n",
       "\n",
       "    .dataframe thead th {\n",
       "        text-align: right;\n",
       "    }\n",
       "</style>\n",
       "<table border=\"1\" class=\"dataframe\">\n",
       "  <thead>\n",
       "    <tr style=\"text-align: right;\">\n",
       "      <th></th>\n",
       "      <th>state</th>\n",
       "      <th>count</th>\n",
       "    </tr>\n",
       "  </thead>\n",
       "  <tbody>\n",
       "    <tr>\n",
       "      <th>0</th>\n",
       "      <td>CA</td>\n",
       "      <td>181</td>\n",
       "    </tr>\n",
       "    <tr>\n",
       "      <th>1</th>\n",
       "      <td>NY</td>\n",
       "      <td>58</td>\n",
       "    </tr>\n",
       "    <tr>\n",
       "      <th>2</th>\n",
       "      <td>WA</td>\n",
       "      <td>58</td>\n",
       "    </tr>\n",
       "    <tr>\n",
       "      <th>3</th>\n",
       "      <td>PA</td>\n",
       "      <td>42</td>\n",
       "    </tr>\n",
       "    <tr>\n",
       "      <th>4</th>\n",
       "      <td>IL</td>\n",
       "      <td>42</td>\n",
       "    </tr>\n",
       "  </tbody>\n",
       "</table>\n",
       "</div>"
      ],
      "text/plain": [
       "  state  count\n",
       "0    CA    181\n",
       "1    NY     58\n",
       "2    WA     58\n",
       "3    PA     42\n",
       "4    IL     42"
      ]
     },
     "execution_count": 49,
     "metadata": {},
     "output_type": "execute_result"
    }
   ],
   "source": [
    "freq = df['loc'].value_counts()\n",
    "name = freq.index.values\n",
    "count = freq.values\n",
    "df = pd.DataFrame(data ={'state': name,'count':count})\n",
    "df.head()"
   ]
  },
  {
   "cell_type": "code",
   "execution_count": 50,
   "metadata": {},
   "outputs": [],
   "source": [
    "#write to csv\n",
    "occu=occupationName.lower()\n",
    "fname = occu.replace(' ','_')+'_locations.csv'\n",
    "df.to_csv(fname, index = False)"
   ]
  },
  {
   "cell_type": "code",
   "execution_count": 51,
   "metadata": {},
   "outputs": [
    {
     "data": {
      "text/html": [
       "<div>\n",
       "<style scoped>\n",
       "    .dataframe tbody tr th:only-of-type {\n",
       "        vertical-align: middle;\n",
       "    }\n",
       "\n",
       "    .dataframe tbody tr th {\n",
       "        vertical-align: top;\n",
       "    }\n",
       "\n",
       "    .dataframe thead th {\n",
       "        text-align: right;\n",
       "    }\n",
       "</style>\n",
       "<table border=\"1\" class=\"dataframe\">\n",
       "  <thead>\n",
       "    <tr style=\"text-align: right;\">\n",
       "      <th></th>\n",
       "      <th>state</th>\n",
       "      <th>count</th>\n",
       "    </tr>\n",
       "  </thead>\n",
       "  <tbody>\n",
       "    <tr>\n",
       "      <th>0</th>\n",
       "      <td>CA</td>\n",
       "      <td>181</td>\n",
       "    </tr>\n",
       "    <tr>\n",
       "      <th>1</th>\n",
       "      <td>NY</td>\n",
       "      <td>58</td>\n",
       "    </tr>\n",
       "    <tr>\n",
       "      <th>2</th>\n",
       "      <td>WA</td>\n",
       "      <td>58</td>\n",
       "    </tr>\n",
       "    <tr>\n",
       "      <th>3</th>\n",
       "      <td>PA</td>\n",
       "      <td>42</td>\n",
       "    </tr>\n",
       "    <tr>\n",
       "      <th>4</th>\n",
       "      <td>IL</td>\n",
       "      <td>42</td>\n",
       "    </tr>\n",
       "  </tbody>\n",
       "</table>\n",
       "</div>"
      ],
      "text/plain": [
       "  state  count\n",
       "0    CA    181\n",
       "1    NY     58\n",
       "2    WA     58\n",
       "3    PA     42\n",
       "4    IL     42"
      ]
     },
     "execution_count": 51,
     "metadata": {},
     "output_type": "execute_result"
    }
   ],
   "source": [
    "pd.read_csv(fname).head()"
   ]
  },
  {
   "cell_type": "code",
   "execution_count": null,
   "metadata": {},
   "outputs": [],
   "source": []
  }
 ],
 "metadata": {
  "kernelspec": {
   "display_name": "Python 3",
   "language": "python",
   "name": "python3"
  },
  "language_info": {
   "codemirror_mode": {
    "name": "ipython",
    "version": 3
   },
   "file_extension": ".py",
   "mimetype": "text/x-python",
   "name": "python",
   "nbconvert_exporter": "python",
   "pygments_lexer": "ipython3",
   "version": "3.6.2"
  }
 },
 "nbformat": 4,
 "nbformat_minor": 2
}
